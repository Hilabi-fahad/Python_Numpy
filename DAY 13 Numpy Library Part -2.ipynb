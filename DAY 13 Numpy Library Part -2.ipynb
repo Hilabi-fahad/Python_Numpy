{
 "cells": [
  {
   "cell_type": "markdown",
   "id": "705f32ad",
   "metadata": {},
   "source": [
    "## Numpy Library\n",
    "\n",
    "Part 2"
   ]
  },
  {
   "cell_type": "code",
   "execution_count": 3,
   "id": "de7ed072",
   "metadata": {},
   "outputs": [],
   "source": [
    "import numpy as np"
   ]
  },
  {
   "cell_type": "code",
   "execution_count": 6,
   "id": "e2ca72cd",
   "metadata": {},
   "outputs": [
    {
     "name": "stdout",
     "output_type": "stream",
     "text": [
      "3\n"
     ]
    }
   ],
   "source": [
    "## 1D Array\n",
    "\n",
    "arr= np.array([1,2,3,4,5])\n",
    "print(arr[2])"
   ]
  },
  {
   "cell_type": "code",
   "execution_count": 8,
   "id": "f36b0c0b",
   "metadata": {},
   "outputs": [
    {
     "name": "stdout",
     "output_type": "stream",
     "text": [
      "[1 2 3 4]\n",
      "[1 3 5]\n"
     ]
    }
   ],
   "source": [
    "arr=np.array([1,2,3,4,5,6])\n",
    "print(arr[:4])\n",
    "print(arr[::2])"
   ]
  },
  {
   "cell_type": "code",
   "execution_count": 9,
   "id": "761d16e1",
   "metadata": {},
   "outputs": [
    {
     "name": "stdout",
     "output_type": "stream",
     "text": [
      "2\n",
      "4\n"
     ]
    }
   ],
   "source": [
    "## Slicing in 2D Array\n",
    "\n",
    "arr=np.array([[1,2,3,],[4,5,6]])\n",
    "print(arr[0,1])\n",
    "print(arr[1,0])"
   ]
  },
  {
   "cell_type": "markdown",
   "id": "a2c942ed",
   "metadata": {},
   "source": [
    "# Data Type in NUmpy\n",
    "\n",
    "i - integer\n",
    "\n",
    "b - boolean\n",
    "\n",
    "u - unsigned integer\n",
    "\n",
    "f - floating\n",
    "\n",
    "c - complex\n",
    "\n",
    "v - fixed clund\n",
    "\n",
    "m - time\n",
    "\n",
    "M - datetime \n",
    "\n",
    "o - oject\n",
    "\n",
    "s -string\n",
    "\n",
    "u - unicode string\n"
   ]
  },
  {
   "cell_type": "code",
   "execution_count": 10,
   "id": "cfc231db",
   "metadata": {},
   "outputs": [
    {
     "name": "stdout",
     "output_type": "stream",
     "text": [
      "int32\n"
     ]
    }
   ],
   "source": [
    "## Checking the datatype in numpy\n",
    "\n",
    "a = np.array([1,2,3,4,5])\n",
    "print(a.dtype)"
   ]
  },
  {
   "cell_type": "code",
   "execution_count": 12,
   "id": "489a0f21",
   "metadata": {},
   "outputs": [
    {
     "name": "stdout",
     "output_type": "stream",
     "text": [
      "<U7\n"
     ]
    }
   ],
   "source": [
    "a = np.array(['animals','bird','fish'])\n",
    "print(a.dtype)"
   ]
  },
  {
   "cell_type": "code",
   "execution_count": 15,
   "id": "0fe4b267",
   "metadata": {},
   "outputs": [
    {
     "name": "stdout",
     "output_type": "stream",
     "text": [
      "[b'1' b'2' b'3' b'4']\n",
      "|S1\n"
     ]
    }
   ],
   "source": [
    "## Creating array with a defined data type\n",
    "\n",
    "arr=np.array([1,2,3,4],dtype='S')\n",
    "print(arr)\n",
    "print(arr.dtype)"
   ]
  },
  {
   "cell_type": "code",
   "execution_count": 17,
   "id": "d9d9ac34",
   "metadata": {},
   "outputs": [
    {
     "name": "stdout",
     "output_type": "stream",
     "text": [
      "[1 2 3 4]\n",
      "int32\n"
     ]
    }
   ],
   "source": [
    "## Creating an array with the data type 4 bytes integer\n",
    "\n",
    "arr=np.array([1,2,3,4],dtype='i4')\n",
    "print(arr)\n",
    "print(arr.dtype)"
   ]
  },
  {
   "cell_type": "markdown",
   "id": "39b69abb",
   "metadata": {},
   "source": [
    "## Numpy Array Shape\n",
    "\n",
    "the shpae an arrray is the number of element in each dimension"
   ]
  },
  {
   "cell_type": "code",
   "execution_count": 20,
   "id": "9505c992",
   "metadata": {},
   "outputs": [
    {
     "name": "stdout",
     "output_type": "stream",
     "text": [
      "[[1 2 3 4]\n",
      " [5 6 7 8]]\n",
      "(2, 4)\n"
     ]
    }
   ],
   "source": [
    "## Print the shape of a AD array\n",
    "\n",
    "a=np.array([[1,2,3,4],[5,6,7,8]])\n",
    "print(a)\n",
    "print(a.shape)"
   ]
  },
  {
   "cell_type": "code",
   "execution_count": 25,
   "id": "f47e6f40",
   "metadata": {},
   "outputs": [
    {
     "name": "stdout",
     "output_type": "stream",
     "text": [
      "[[[1 2 3]\n",
      "  [4 5 6]\n",
      "  [7 8 9]]]\n",
      "(1, 3, 3)\n"
     ]
    }
   ],
   "source": [
    "a=np.array([[[1,2,3],[4,5,6],[7,8,9]]])\n",
    "print(a)\n",
    "print(a.shape)"
   ]
  },
  {
   "cell_type": "markdown",
   "id": "876e18e2",
   "metadata": {},
   "source": [
    "## Reshape of Array"
   ]
  },
  {
   "cell_type": "code",
   "execution_count": 82,
   "id": "728b1431",
   "metadata": {},
   "outputs": [
    {
     "name": "stdout",
     "output_type": "stream",
     "text": [
      "[[ 1  2  3]\n",
      " [ 4  5  6]\n",
      " [ 7  8  9]\n",
      " [10 11 12]]\n"
     ]
    }
   ],
   "source": [
    "## Reshape from 1D to 2D Array\n",
    "\n",
    "a=np.array([1, 2, 3, 4, 5, 6, 7, 8, 9, 10, 11, 12])\n",
    "b=a.reshape(4,3)\n",
    "print(b)"
   ]
  },
  {
   "cell_type": "code",
   "execution_count": 83,
   "id": "5f9cb857",
   "metadata": {
    "scrolled": true
   },
   "outputs": [
    {
     "name": "stdout",
     "output_type": "stream",
     "text": [
      "[[[ 1  2]\n",
      "  [ 3  4]\n",
      "  [ 5  6]]\n",
      "\n",
      " [[ 7  8]\n",
      "  [ 9 10]\n",
      "  [11 12]]]\n"
     ]
    }
   ],
   "source": [
    "## Reshape from 1D to 3D Array\n",
    "\n",
    "a=np.array([1, 2, 3, 4, 5, 6, 7, 8, 9, 10, 11, 12])\n",
    "b=a.reshape(2,3,2)\n",
    "print(b)"
   ]
  },
  {
   "cell_type": "markdown",
   "id": "4f984bb1",
   "metadata": {},
   "source": [
    "## Joining Numpy Array \n"
   ]
  },
  {
   "cell_type": "code",
   "execution_count": 27,
   "id": "e5829752",
   "metadata": {},
   "outputs": [
    {
     "name": "stdout",
     "output_type": "stream",
     "text": [
      "[1 2 3 4]\n",
      "[5 6 7 8]\n",
      "\n",
      "[1 2 3 4 5 6 7 8]\n"
     ]
    }
   ],
   "source": [
    "## 1D Array\n",
    "\n",
    "arr1=np.array([1,2,3,4])\n",
    "arr2=np.array([5,6,7,8])\n",
    "print(arr1)\n",
    "print(arr2)\n",
    "print()\n",
    "arr3=np.concatenate((arr1,arr2))\n",
    "print(arr3)"
   ]
  },
  {
   "cell_type": "code",
   "execution_count": 34,
   "id": "0b7ebcd7",
   "metadata": {},
   "outputs": [
    {
     "name": "stdout",
     "output_type": "stream",
     "text": [
      "[[1 2]\n",
      " [3 4]]\n",
      "[[5 6]\n",
      " [7 8]]\n",
      "\n",
      "[[1 2]\n",
      " [3 4]\n",
      " [5 6]\n",
      " [7 8]]\n"
     ]
    }
   ],
   "source": [
    "## Joning 2D Array\n",
    "\n",
    "arr1=np.array([[1,2],[3,4]])\n",
    "arr2=np.array([[5,6],[7,8]])\n",
    "print(arr1)\n",
    "print(arr2)\n",
    "print()\n",
    "arr3=np.concatenate((arr1,arr2),axis=0)\n",
    "print(arr3)"
   ]
  },
  {
   "cell_type": "markdown",
   "id": "86e734ed",
   "metadata": {},
   "source": [
    "## Splitting Numpy Array\n"
   ]
  },
  {
   "cell_type": "code",
   "execution_count": 36,
   "id": "ea700e0c",
   "metadata": {},
   "outputs": [
    {
     "name": "stdout",
     "output_type": "stream",
     "text": [
      "[array([1, 2]), array([3, 4]), array([5, 6])]\n"
     ]
    }
   ],
   "source": [
    "## Splitting the arrray in 3Array\n",
    "\n",
    "a=np.array([1,2,3,4,5,6])\n",
    "b=np.array_split(a,3)\n",
    "print(b)"
   ]
  },
  {
   "cell_type": "code",
   "execution_count": 37,
   "id": "d54f47f8",
   "metadata": {},
   "outputs": [
    {
     "name": "stdout",
     "output_type": "stream",
     "text": [
      "[array([1, 2]), array([3, 4]), array([5]), array([6])]\n"
     ]
    }
   ],
   "source": [
    "## Splitting the arrray in 4Array\n",
    "\n",
    "a=np.array([1,2,3,4,5,6])\n",
    "b=np.array_split(a,4)\n",
    "print(b)"
   ]
  },
  {
   "cell_type": "markdown",
   "id": "cb123a4b",
   "metadata": {},
   "source": [
    "## Ravel and Flatten\n",
    "\n",
    "Convert mutlidimensional array 1D Array"
   ]
  },
  {
   "cell_type": "code",
   "execution_count": 39,
   "id": "a1707541",
   "metadata": {},
   "outputs": [
    {
     "name": "stdout",
     "output_type": "stream",
     "text": [
      "[[[1 2 3]\n",
      "  [4 5 6]\n",
      "  [7 8 9]]]\n",
      "dimensnion is  3\n",
      "\n",
      "[1 2 3 4 5 6 7 8 9]\n",
      "dimensnion is 1\n"
     ]
    }
   ],
   "source": [
    "m=np.array([[[1,2,3],[4,5,6],[7,8,9]]])\n",
    "print(m)\n",
    "print('dimensnion is ',m.ndim)\n",
    "print()\n",
    "n=m.ravel()\n",
    "print(n)\n",
    "print('dimensnion is',n.ndim)"
   ]
  },
  {
   "cell_type": "code",
   "execution_count": 40,
   "id": "221176cd",
   "metadata": {},
   "outputs": [
    {
     "name": "stdout",
     "output_type": "stream",
     "text": [
      "[[[1 2 3]\n",
      "  [4 5 6]\n",
      "  [7 8 9]]]\n",
      "dimensnion is  3\n",
      "\n",
      "[1 2 3 4 5 6 7 8 9]\n",
      "dimensnion is 1\n"
     ]
    }
   ],
   "source": [
    "## Ravel and Flatthen are the same function\n",
    "\n",
    "m=np.array([[[1,2,3],[4,5,6],[7,8,9]]])\n",
    "print(m)\n",
    "print('dimensnion is ',m.ndim)\n",
    "print()\n",
    "n=m.flatten()\n",
    "print(n)\n",
    "print('dimensnion is',n.ndim)"
   ]
  },
  {
   "cell_type": "markdown",
   "id": "d4f9a49b",
   "metadata": {},
   "source": [
    "## Unique Function \n",
    "\n",
    "Fetch the element form array which are unique"
   ]
  },
  {
   "cell_type": "code",
   "execution_count": 49,
   "id": "bb0da79a",
   "metadata": {},
   "outputs": [
    {
     "name": "stdout",
     "output_type": "stream",
     "text": [
      "[12 14  6  7  9  3  4  5 22 33  7  6  9  1  2 12]\n",
      "\n",
      "\n",
      "[ 1  2  3  4  5  6  7  9 12 14 22 33]\n",
      "\n",
      "(array([ 1,  2,  3,  4,  5,  6,  7,  9, 12, 14, 22, 33]), array([13, 14,  5,  6,  7,  2,  3,  4,  0,  1,  8,  9], dtype=int64), array([1, 1, 1, 1, 1, 2, 2, 2, 2, 1, 1, 1], dtype=int64))\n"
     ]
    }
   ],
   "source": [
    "k=np.array([12,14,6,7,9,3,4,5,22,33,7,6,9,1,2,12])\n",
    "print(k)\n",
    "print()\n",
    "b=np.unique(k)\n",
    "c=np.unique(k,return_index=True , return_counts= True)\n",
    "print()\n",
    "print(b)\n",
    "print()\n",
    "print(c)"
   ]
  },
  {
   "cell_type": "markdown",
   "id": "2fb62aa2",
   "metadata": {},
   "source": [
    "## Delete"
   ]
  },
  {
   "cell_type": "code",
   "execution_count": 54,
   "id": "422878d0",
   "metadata": {},
   "outputs": [
    {
     "name": "stdout",
     "output_type": "stream",
     "text": [
      "[12 13 15]\n"
     ]
    }
   ],
   "source": [
    "## Deleting for 1D Array \n",
    "a=np.array([12,13,14,15])\n",
    "b=np.delete(a,[2])\n",
    "print(b)"
   ]
  },
  {
   "cell_type": "code",
   "execution_count": 58,
   "id": "e028e516",
   "metadata": {},
   "outputs": [
    {
     "name": "stdout",
     "output_type": "stream",
     "text": [
      "[[1 2 3]\n",
      " [4 5 6]\n",
      " [7 8 9]]\n",
      "\n",
      "[[1 2 3]\n",
      " [7 8 9]]\n"
     ]
    }
   ],
   "source": [
    "x=np.array([[1,2,3],[4,5,6],[7,8,9]])\n",
    "print(x)\n",
    "print()\n",
    "y=np.delete(x,1,axis=0)\n",
    "print(y)"
   ]
  },
  {
   "cell_type": "code",
   "execution_count": 60,
   "id": "ac99abd0",
   "metadata": {},
   "outputs": [
    {
     "name": "stdout",
     "output_type": "stream",
     "text": [
      "[[1 2 3]\n",
      " [4 5 6]\n",
      " [7 8 9]]\n",
      "\n",
      "[[1 3]\n",
      " [4 6]\n",
      " [7 9]]\n"
     ]
    }
   ],
   "source": [
    "## Defining the axis in array\n",
    "\n",
    "x=np.array([[1,2,3],[4,5,6],[7,8,9]])\n",
    "print(x)\n",
    "print()\n",
    "y=np.delete(x,1,axis=1)\n",
    "print(y)"
   ]
  },
  {
   "cell_type": "markdown",
   "id": "77d71a24",
   "metadata": {},
   "source": [
    "## -------------------------------------------"
   ]
  },
  {
   "cell_type": "code",
   "execution_count": 61,
   "id": "0e6d772f",
   "metadata": {},
   "outputs": [
    {
     "name": "stdout",
     "output_type": "stream",
     "text": [
      "[[1 2 3]\n",
      " [4 5 6]\n",
      " [7 8 9]]\n"
     ]
    }
   ],
   "source": [
    "ax=np.array([[1,2,3],[4,5,6],[7,8,9]])\n",
    "print(ax)"
   ]
  },
  {
   "cell_type": "code",
   "execution_count": 101,
   "id": "32e24bcb",
   "metadata": {},
   "outputs": [],
   "source": [
    "a=ax.shape\n",
    "a1=ax.reshape\n",
    "b=ax.sum(axis=0)\n",
    "c=ax.sum(axis=1)\n",
    "d=ax.min()\n",
    "e=ax.max()\n",
    "f=ax.sort()"
   ]
  },
  {
   "cell_type": "code",
   "execution_count": 102,
   "id": "32456312",
   "metadata": {},
   "outputs": [
    {
     "name": "stdout",
     "output_type": "stream",
     "text": [
      "Shape of the ax (3, 3)\n",
      "reshape of the ax <built-in method reshape of numpy.ndarray object at 0x0000013D5C25C990>\n",
      "sum of the Axis 0 [12 15 18]\n",
      "sum of the Axis 1 [ 6 15 24]\n",
      "Min Value 1\n",
      "max value 9\n",
      "sort in array None\n"
     ]
    }
   ],
   "source": [
    "print('Shape of the ax',a)\n",
    "print('reshape of the ax',a1)\n",
    "print('sum of the Axis 0',b)\n",
    "print('sum of the Axis 1',c)\n",
    "print('Min Value',d)\n",
    "print('max value',e)\n",
    "print('sort in array',f)"
   ]
  },
  {
   "cell_type": "markdown",
   "id": "3e91d6d5",
   "metadata": {},
   "source": [
    "## Range Array"
   ]
  },
  {
   "cell_type": "code",
   "execution_count": 87,
   "id": "d35ce3c9",
   "metadata": {},
   "outputs": [
    {
     "name": "stdout",
     "output_type": "stream",
     "text": [
      "[ 0  1  2  3  4  5  6  7  8  9 10 11 12 13 14 15 16 17 18 19 20 21 22 23\n",
      " 24 25 26 27 28 29 30 31 32 33 34 35 36 37 38 39 40 41 42 43 44 45 46 47\n",
      " 48 49 50 51 52 53 54 55 56 57 58 59 60 61 62 63 64 65 66 67 68 69 70 71\n",
      " 72 73 74 75 76 77 78 79 80 81 82 83 84 85 86 87 88 89 90 91 92 93 94 95\n",
      " 96 97 98]\n"
     ]
    }
   ],
   "source": [
    "## Range in array\n",
    "\n",
    "arr= np.arange(99)\n",
    "print(arr)"
   ]
  },
  {
   "cell_type": "code",
   "execution_count": 89,
   "id": "240ebfe9",
   "metadata": {},
   "outputs": [
    {
     "name": "stdout",
     "output_type": "stream",
     "text": [
      "[ 2  4  6  8 10 12 14 16 18 20]\n"
     ]
    }
   ],
   "source": [
    "## Print even number in array\n",
    "\n",
    "a=np.arange(2,22,2)\n",
    "print(a)"
   ]
  },
  {
   "cell_type": "code",
   "execution_count": 90,
   "id": "733905af",
   "metadata": {},
   "outputs": [
    {
     "name": "stdout",
     "output_type": "stream",
     "text": [
      "[ 1  3  5  7  9 11 13 15 17 19 21]\n"
     ]
    }
   ],
   "source": [
    "## defined number in array\n",
    "## odd number\n",
    "\n",
    "arr=np.arange(1,23,2)\n",
    "print(arr)"
   ]
  },
  {
   "cell_type": "markdown",
   "id": "62dfaec2",
   "metadata": {},
   "source": [
    "## Numpy object Creation "
   ]
  },
  {
   "cell_type": "code",
   "execution_count": 93,
   "id": "4dc6b424",
   "metadata": {},
   "outputs": [
    {
     "name": "stdout",
     "output_type": "stream",
     "text": [
      "[[0. 0.]\n",
      " [0. 0.]]\n"
     ]
    }
   ],
   "source": [
    "zero=np.zeros((2,2))\n",
    "print(zero)"
   ]
  },
  {
   "cell_type": "code",
   "execution_count": 96,
   "id": "52e553f1",
   "metadata": {},
   "outputs": [
    {
     "name": "stdout",
     "output_type": "stream",
     "text": [
      "[[1. 1. 1. 1.]\n",
      " [1. 1. 1. 1.]\n",
      " [1. 1. 1. 1.]\n",
      " [1. 1. 1. 1.]]\n"
     ]
    }
   ],
   "source": [
    "ones=np.ones((4,4))\n",
    "print(ones)"
   ]
  },
  {
   "cell_type": "code",
   "execution_count": 98,
   "id": "907aad00",
   "metadata": {},
   "outputs": [
    {
     "name": "stdout",
     "output_type": "stream",
     "text": [
      "[[1. 0. 0. 0.]\n",
      " [0. 1. 0. 0.]\n",
      " [0. 0. 1. 0.]\n",
      " [0. 0. 0. 1.]]\n"
     ]
    }
   ],
   "source": [
    "ey=np.eye(4,4)\n",
    "print(ey)"
   ]
  },
  {
   "cell_type": "code",
   "execution_count": 100,
   "id": "6d5ef68e",
   "metadata": {},
   "outputs": [
    {
     "name": "stdout",
     "output_type": "stream",
     "text": [
      "[[1. 0. 0. 0.]\n",
      " [0. 1. 0. 0.]\n",
      " [0. 0. 1. 0.]\n",
      " [0. 0. 0. 1.]]\n"
     ]
    }
   ],
   "source": [
    "ey=np.empty((4,4))\n",
    "print(ey)"
   ]
  },
  {
   "cell_type": "code",
   "execution_count": null,
   "id": "0c3a1f9d",
   "metadata": {},
   "outputs": [],
   "source": []
  }
 ],
 "metadata": {
  "kernelspec": {
   "display_name": "Python 3 (ipykernel)",
   "language": "python",
   "name": "python3"
  },
  "language_info": {
   "codemirror_mode": {
    "name": "ipython",
    "version": 3
   },
   "file_extension": ".py",
   "mimetype": "text/x-python",
   "name": "python",
   "nbconvert_exporter": "python",
   "pygments_lexer": "ipython3",
   "version": "3.11.3"
  }
 },
 "nbformat": 4,
 "nbformat_minor": 5
}
