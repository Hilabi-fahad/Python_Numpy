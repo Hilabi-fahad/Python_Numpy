{
 "cells": [
  {
   "cell_type": "markdown",
   "id": "756bca46",
   "metadata": {},
   "source": [
    "## Numpy Library \n",
    "Part -1"
   ]
  },
  {
   "cell_type": "code",
   "execution_count": 2,
   "id": "bb8497d2",
   "metadata": {},
   "outputs": [],
   "source": [
    "##importing the numpy\n",
    "\n",
    "import numpy as np"
   ]
  },
  {
   "cell_type": "code",
   "execution_count": 7,
   "id": "c8ebab13",
   "metadata": {},
   "outputs": [
    {
     "name": "stdout",
     "output_type": "stream",
     "text": [
      "[1 2 3 4 5]\n",
      "<class 'numpy.ndarray'>\n"
     ]
    }
   ],
   "source": [
    "##Creating the numpy array in list\n",
    "\n",
    "arr= np.array([1,2,3,4,5])\n",
    "\n",
    "print(arr)\n",
    "print(type(arr))"
   ]
  },
  {
   "cell_type": "code",
   "execution_count": 8,
   "id": "9c100ed5",
   "metadata": {},
   "outputs": [
    {
     "name": "stdout",
     "output_type": "stream",
     "text": [
      "[1 2 3 4 5]\n",
      "<class 'numpy.ndarray'>\n"
     ]
    }
   ],
   "source": [
    "## Craeting the numpy array in tuple\n",
    "\n",
    "arr=np.array((1,2,3,4,5))\n",
    "\n",
    "print(arr)\n",
    "print(type(arr))"
   ]
  },
  {
   "cell_type": "code",
   "execution_count": 9,
   "id": "2befd9e1",
   "metadata": {},
   "outputs": [
    {
     "name": "stdout",
     "output_type": "stream",
     "text": [
      "20\n",
      "<class 'numpy.ndarray'>\n",
      "0\n"
     ]
    }
   ],
   "source": [
    "## Dimensions in array\n",
    "\n",
    "arr=np.array(20)\n",
    "\n",
    "print(arr)\n",
    "print(type(arr))\n",
    "print(arr.ndim)"
   ]
  },
  {
   "cell_type": "code",
   "execution_count": 10,
   "id": "5aa1bd97",
   "metadata": {},
   "outputs": [
    {
     "name": "stdout",
     "output_type": "stream",
     "text": [
      "[1 2 3 4 5]\n",
      "<class 'numpy.ndarray'>\n",
      "1\n"
     ]
    }
   ],
   "source": [
    "## 1D array\n",
    "\n",
    "arr=np.array([1,2,3,4,5])\n",
    "\n",
    "print(arr)\n",
    "print(type(arr))\n",
    "print(arr.ndim)"
   ]
  },
  {
   "cell_type": "code",
   "execution_count": 18,
   "id": "af943505",
   "metadata": {},
   "outputs": [
    {
     "name": "stdout",
     "output_type": "stream",
     "text": [
      "[[1 2 3]\n",
      " [7 8 9]]\n",
      "<class 'numpy.ndarray'>\n",
      "2\n"
     ]
    }
   ],
   "source": [
    "## 2D array\n",
    "\n",
    "arr=np.array([[1,2,3,],[7,8,9]])\n",
    "\n",
    "print(arr)\n",
    "print(type(arr))\n",
    "print(arr.ndim)"
   ]
  },
  {
   "cell_type": "code",
   "execution_count": 20,
   "id": "9a7a45a6",
   "metadata": {},
   "outputs": [
    {
     "name": "stdout",
     "output_type": "stream",
     "text": [
      "[[[1 2 3]\n",
      "  [7 8 9]]\n",
      "\n",
      " [[4 5 6]\n",
      "  [9 8 7]]]\n",
      "<class 'numpy.ndarray'>\n",
      "3\n"
     ]
    }
   ],
   "source": [
    "## 3D array\n",
    "\n",
    "arr=np.array([[[1,2,3,],[7,8,9]],[[4,5,6],[9,8,7]]])\n",
    "\n",
    "print(arr)\n",
    "print(type(arr))\n",
    "print(arr.ndim)"
   ]
  },
  {
   "cell_type": "markdown",
   "id": "ea868335",
   "metadata": {},
   "source": [
    "## Higher Dimensional Arrays\n",
    "\n",
    "Creating an array with the 5 dimensiona and verify that it has 5 dimensional"
   ]
  },
  {
   "cell_type": "code",
   "execution_count": 24,
   "id": "7e214ac6",
   "metadata": {},
   "outputs": [
    {
     "name": "stdout",
     "output_type": "stream",
     "text": [
      "[[[[[1 2 3 4]]]]]\n",
      "5\n"
     ]
    }
   ],
   "source": [
    "arr=np.array([1,2,3,4],ndmin=5)\n",
    "print(arr)\n",
    "print(arr.ndim)"
   ]
  },
  {
   "cell_type": "markdown",
   "id": "da2fa28b",
   "metadata": {},
   "source": [
    "## Numpy Array Indexing "
   ]
  },
  {
   "cell_type": "code",
   "execution_count": 26,
   "id": "3d825aaa",
   "metadata": {},
   "outputs": [
    {
     "name": "stdout",
     "output_type": "stream",
     "text": [
      "5\n"
     ]
    }
   ],
   "source": [
    "arr = np.array([1,2,3,4,5])\n",
    "print(arr[4])"
   ]
  },
  {
   "cell_type": "code",
   "execution_count": 30,
   "id": "b04a27c7",
   "metadata": {},
   "outputs": [
    {
     "name": "stdout",
     "output_type": "stream",
     "text": [
      "2th place :  23.0\n",
      "4th place :  5.0\n",
      "6th place :  23.0\n",
      "8th place :  6.8\n"
     ]
    }
   ],
   "source": [
    "m=np.array([23,4,5,67,23,64,6.8,15,10,19])\n",
    "print('2th place : ',m[0])\n",
    "print('4th place : ',m[2])\n",
    "print('6th place : ',m[4])\n",
    "print('8th place : ',m[6])"
   ]
  },
  {
   "cell_type": "markdown",
   "id": "c571bd43",
   "metadata": {},
   "source": [
    "## 2D Array Indexing \n"
   ]
  },
  {
   "cell_type": "code",
   "execution_count": 33,
   "id": "57cf25e0",
   "metadata": {},
   "outputs": [
    {
     "name": "stdout",
     "output_type": "stream",
     "text": [
      "[[ 10  20  30  40  50]\n",
      " [ 60  70  80  90 100]]\n",
      "2\n",
      "30\n",
      "40\n",
      "90\n",
      "100\n"
     ]
    }
   ],
   "source": [
    "arr =np.array([[10,20,30,40,50],[60,70,80,90,100]])\n",
    "print(arr)\n",
    "print(arr.ndim)\n",
    "print(arr[0,2])\n",
    "print(arr[0,3])\n",
    "print(arr[1,3])\n",
    "print(arr[1,4])"
   ]
  },
  {
   "cell_type": "markdown",
   "id": "f26934de",
   "metadata": {},
   "source": [
    "Adding the first element of 1 row and last element "
   ]
  },
  {
   "cell_type": "code",
   "execution_count": 39,
   "id": "b69483f8",
   "metadata": {},
   "outputs": [
    {
     "name": "stdout",
     "output_type": "stream",
     "text": [
      "the first element of 1 row 10\n",
      "the Second element of 2 row 100\n",
      "sum of 110\n"
     ]
    }
   ],
   "source": [
    "arr =np.array([[10,20,30,40,50],[60,70,80,90,100]])\n",
    "\n",
    "print('the first element of 1 row',arr[0,0])\n",
    "print('the Second element of 2 row',arr[1,4])\n",
    "\n",
    "print('sum of',arr[0,0]+arr[1,4])"
   ]
  },
  {
   "cell_type": "markdown",
   "id": "6b2df302",
   "metadata": {},
   "source": [
    "## Access 3D Arrays"
   ]
  },
  {
   "cell_type": "code",
   "execution_count": 42,
   "id": "ffd0c5e5",
   "metadata": {},
   "outputs": [
    {
     "name": "stdout",
     "output_type": "stream",
     "text": [
      "[[[1 2 3 4]\n",
      "  [5 6 7 8]]\n",
      "\n",
      " [[2 3 4 5]\n",
      "  [6 7 8 9]]]\n",
      "3\n"
     ]
    }
   ],
   "source": [
    "arr =np.array([[[1,2,3,4],[5,6,7,8]],[[2,3,4,5],[6,7,8,9]]])\n",
    "\n",
    "print(arr)\n",
    "print(arr.ndim)"
   ]
  },
  {
   "cell_type": "code",
   "execution_count": 44,
   "id": "09370ab5",
   "metadata": {},
   "outputs": [
    {
     "name": "stdout",
     "output_type": "stream",
     "text": [
      "3\n",
      "7\n"
     ]
    }
   ],
   "source": [
    "## indexing for first array\n",
    "\n",
    "print(arr[0,0,2])\n",
    "print(arr[0,1,2])"
   ]
  },
  {
   "cell_type": "code",
   "execution_count": 46,
   "id": "477793ef",
   "metadata": {},
   "outputs": [
    {
     "name": "stdout",
     "output_type": "stream",
     "text": [
      "5\n",
      "7\n"
     ]
    }
   ],
   "source": [
    "## indexing for second array\n",
    "\n",
    "print(arr[1,0,3])\n",
    "print(arr[1,1,1])"
   ]
  },
  {
   "cell_type": "code",
   "execution_count": null,
   "id": "16fdcbcc",
   "metadata": {},
   "outputs": [],
   "source": []
  }
 ],
 "metadata": {
  "kernelspec": {
   "display_name": "Python 3 (ipykernel)",
   "language": "python",
   "name": "python3"
  },
  "language_info": {
   "codemirror_mode": {
    "name": "ipython",
    "version": 3
   },
   "file_extension": ".py",
   "mimetype": "text/x-python",
   "name": "python",
   "nbconvert_exporter": "python",
   "pygments_lexer": "ipython3",
   "version": "3.11.3"
  }
 },
 "nbformat": 4,
 "nbformat_minor": 5
}
