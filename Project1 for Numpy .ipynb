{
 "cells": [
  {
   "cell_type": "code",
   "execution_count": 1,
   "id": "8da6628b",
   "metadata": {},
   "outputs": [],
   "source": [
    "import numpy as np"
   ]
  },
  {
   "cell_type": "code",
   "execution_count": 17,
   "id": "f92ef57e",
   "metadata": {},
   "outputs": [],
   "source": [
    "## Reading the file\n",
    "taxi = np.genfromtxt('nyc_taxis.csv',delimiter=',',skip_header =True )\n"
   ]
  },
  {
   "cell_type": "code",
   "execution_count": 41,
   "id": "6a9eefe7",
   "metadata": {},
   "outputs": [],
   "source": [
    "## Calucate the speed=distance/time\n",
    "speed = taxi[:, 7]/ (taxi[:, 8]/3600)"
   ]
  },
  {
   "cell_type": "code",
   "execution_count": 42,
   "id": "47c19080",
   "metadata": {},
   "outputs": [
    {
     "data": {
      "text/plain": [
       "32.24258580925573"
      ]
     },
     "execution_count": 42,
     "metadata": {},
     "output_type": "execute_result"
    }
   ],
   "source": [
    "## Mean spead of all the rides\n",
    "\n",
    "speed.mean()\n"
   ]
  },
  {
   "cell_type": "code",
   "execution_count": 47,
   "id": "cf92cb45",
   "metadata": {},
   "outputs": [
    {
     "data": {
      "text/plain": [
       "13333"
      ]
     },
     "execution_count": 47,
     "metadata": {},
     "output_type": "execute_result"
    }
   ],
   "source": [
    "## Number of rides taken in February\n",
    "\n",
    "Feb= taxi[taxi[:, 1] == 2,1]\n",
    "Feb.shape[0]"
   ]
  },
  {
   "cell_type": "code",
   "execution_count": 44,
   "id": "57da2eb5",
   "metadata": {},
   "outputs": [
    {
     "data": {
      "text/plain": [
       "16"
      ]
     },
     "execution_count": 44,
     "metadata": {},
     "output_type": "execute_result"
    }
   ],
   "source": [
    "## Number of ries where tip mreo than $50\n",
    "\n",
    "Tip =taxi[taxi[:,-3] >50,-3]\n",
    "Tip.shape[0]"
   ]
  },
  {
   "cell_type": "code",
   "execution_count": 40,
   "id": "9549f833",
   "metadata": {},
   "outputs": [
    {
     "name": "stdout",
     "output_type": "stream",
     "text": [
      "11832\n"
     ]
    }
   ],
   "source": [
    "## Number of rides where drop was JFK airport code number : 2\n",
    "\n",
    "drop=taxi[taxi[:, 6] ==2 ,6]\n",
    "a=drop.shape[0]\n",
    "print(a)"
   ]
  },
  {
   "cell_type": "code",
   "execution_count": null,
   "id": "005182da",
   "metadata": {},
   "outputs": [],
   "source": []
  }
 ],
 "metadata": {
  "kernelspec": {
   "display_name": "Python 3 (ipykernel)",
   "language": "python",
   "name": "python3"
  },
  "language_info": {
   "codemirror_mode": {
    "name": "ipython",
    "version": 3
   },
   "file_extension": ".py",
   "mimetype": "text/x-python",
   "name": "python",
   "nbconvert_exporter": "python",
   "pygments_lexer": "ipython3",
   "version": "3.11.3"
  }
 },
 "nbformat": 4,
 "nbformat_minor": 5
}
